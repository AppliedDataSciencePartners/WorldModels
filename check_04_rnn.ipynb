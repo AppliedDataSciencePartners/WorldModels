{
 "cells": [
  {
   "cell_type": "code",
   "execution_count": null,
   "metadata": {},
   "outputs": [],
   "source": [
    "%matplotlib inline\n",
    "import numpy as np\n",
    "from rnn.arch import RNN\n",
    "from vae.arch import VAE\n",
    "import matplotlib.pyplot as plt\n",
    "from gym.utils import seeding\n",
    "from IPython import display\n",
    "import time\n",
    "from tensorflow.keras.utils import plot_model\n",
    "\n",
    "np.set_printoptions(precision=4, suppress = True)"
   ]
  },
  {
   "cell_type": "code",
   "execution_count": null,
   "metadata": {},
   "outputs": [],
   "source": [
    "rnn = RNN()\n",
    "rnn.set_weights('./rnn/weights.h5')"
   ]
  },
  {
   "cell_type": "code",
   "execution_count": null,
   "metadata": {},
   "outputs": [],
   "source": [
    "plot_model(rnn.model, to_file='./rnn/model.png', show_shapes=True)"
   ]
  },
  {
   "cell_type": "code",
   "execution_count": null,
   "metadata": {},
   "outputs": [],
   "source": [
    "vae = VAE()\n",
    "vae.set_weights('./vae/weights.h5')"
   ]
  },
  {
   "cell_type": "code",
   "execution_count": null,
   "metadata": {},
   "outputs": [],
   "source": [
    "# obs_data = np.load('./data/obs_data_car_racing_' + str(batch_num) + '.npy') \n",
    "# action_data = np.load('./data/action_data_car_racing_' + str(batch_num) + '.npy')\n",
    "# reward_data = np.load('./data/reward_data_car_racing_' + str(batch_num) + '.npy') \n",
    "# done_data = np.load('./data/done_data_car_racing_' + str(batch_num) + '.npy')\n",
    "rnn_files = np.load('./data/rnn_files.npz') \n",
    "rnn_input = rnn_files['rnn_input']\n",
    "rnn_output = rnn_files['rnn_output']\n",
    "\n",
    "initial_mu = np.load('./data/initial_z.npz')['initial_mu']\n",
    "initial_log_var = np.load('./data/initial_z.npz')['initial_log_var']"
   ]
  },
  {
   "cell_type": "code",
   "execution_count": null,
   "metadata": {},
   "outputs": [],
   "source": [
    "rollout_files = np.load('./data/rollout/941230227.npz') \n",
    "obs_file = rollout_files['obs']\n",
    "action_file = rollout_files['action']\n",
    "reward_file = rollout_files['reward']\n",
    "done_file = rollout_files['done']\n",
    "\n",
    "series_files = np.load('./data/series/941230227.npz') \n",
    "mu_file = series_files['mu']\n",
    "log_var_file = series_files['log_var']\n",
    "action_2_file = series_files['action']\n",
    "reward_2_file = series_files['reward']\n",
    "done_2_file = series_files['done']\n",
    "\n"
   ]
  },
  {
   "cell_type": "code",
   "execution_count": null,
   "metadata": {},
   "outputs": [],
   "source": [
    "\n",
    "hot_zs = np.where(np.exp(initial_log_var[0]/2) < 0.4)[0]\n",
    "hot_zs"
   ]
  },
  {
   "cell_type": "code",
   "execution_count": null,
   "metadata": {},
   "outputs": [],
   "source": [
    "GAUSSIAN_MIXTURES = 5\n",
    "Z_DIM = 32\n",
    "z_dim = 32\n",
    "\n",
    "def get_mixture_coef(z_pred):\n",
    "\n",
    "    log_pi, mu, log_sigma = np.split(z_pred, 3, 1)\n",
    "    log_pi = log_pi - np.log(np.sum(np.exp(log_pi), axis = 1, keepdims = True))\n",
    "\n",
    "    return log_pi, mu, log_sigma\n"
   ]
  },
  {
   "cell_type": "code",
   "execution_count": null,
   "metadata": {},
   "outputs": [],
   "source": [
    "def get_pi_idx(x, pdf):\n",
    "  # samples from a categorial distribution\n",
    "    N = pdf.size\n",
    "    accumulate = 0\n",
    "    for i in range(0, N):\n",
    "        accumulate += pdf[i]\n",
    "        if (accumulate >= x):\n",
    "            return i\n",
    "    random_value = np.random.randint(N)\n",
    "    #print('error with sampling ensemble, returning random', random_value)\n",
    "    return random_value"
   ]
  },
  {
   "cell_type": "code",
   "execution_count": null,
   "metadata": {},
   "outputs": [],
   "source": [
    "def sample_z(mu, log_sigma):\n",
    "    z =  mu + (np.exp(log_sigma)) * np_random.randn(*log_sigma.shape) * 0.5\n",
    "    return z"
   ]
  },
  {
   "cell_type": "code",
   "execution_count": null,
   "metadata": {},
   "outputs": [],
   "source": [
    "np_random, seed = seeding.np_random()"
   ]
  },
  {
   "cell_type": "code",
   "execution_count": null,
   "metadata": {},
   "outputs": [],
   "source": [
    "def sample_next_mdn_output(obs, h, c):\n",
    "    \n",
    "    d = GAUSSIAN_MIXTURES * Z_DIM\n",
    "#     print(np.array([[obs]]))\n",
    "#     print(np.array([h]))\n",
    "#     print(np.array([c]))\n",
    "    \n",
    "#     print('------')\n",
    "#     print(np.array([[obs]]).shape)\n",
    "#     print(np.array([h]).shape)\n",
    "#     print(np.array([c]).shape)\n",
    "#     print('------')\n",
    "    \n",
    "    out = rnn.forward.predict([np.array([[obs]]),np.array([h]),np.array([c])])\n",
    "    \n",
    "    y_pred = out[0][0][0]\n",
    "    new_h = out[1][0]\n",
    "    new_c = out[2][0]\n",
    "    \n",
    "    z_pred = y_pred[:3*d]\n",
    "    rew_pred = y_pred[-1]\n",
    "\n",
    "    z_pred = np.reshape(z_pred, [-1, GAUSSIAN_MIXTURES * 3])\n",
    "\n",
    "    log_pi, mu, log_sigma = get_mixture_coef(z_pred)\n",
    "    \n",
    "    chosen_log_pi = np.zeros(z_dim)\n",
    "    chosen_mu = np.zeros(z_dim)\n",
    "    chosen_log_sigma = np.zeros(z_dim)\n",
    "    \n",
    "    # adjust temperatures\n",
    "    pi = np.copy(log_pi)\n",
    "#     pi -= pi.max()\n",
    "    pi = np.exp(pi)\n",
    "    pi /= pi.sum(axis=1).reshape(z_dim, 1)\n",
    "    \n",
    "#     print(pi)\n",
    "\n",
    "    for j in range(z_dim):\n",
    "        \n",
    "        idx = get_pi_idx(np_random.rand(), pi[j])\n",
    "#         print(idx)\n",
    "        chosen_log_pi[j] = idx\n",
    "        chosen_mu[j] = mu[j,idx]\n",
    "        chosen_log_sigma[j] = log_sigma[j,idx]\n",
    "        \n",
    "    next_z = sample_z(chosen_mu, chosen_log_sigma)\n",
    "\n",
    "    if rew_pred > 0:\n",
    "        next_reward = 1\n",
    "    else:\n",
    "        next_reward = 0\n",
    "\n",
    "    return next_z, chosen_mu, chosen_log_sigma, chosen_log_pi, rew_pred, next_reward, new_h, new_c"
   ]
  },
  {
   "cell_type": "code",
   "execution_count": null,
   "metadata": {},
   "outputs": [],
   "source": [
    "run_idx = 10\n",
    "\n",
    "idx = 0\n",
    "\n",
    "# real = obs_data[run_idx]\n",
    "obs = rnn_input[run_idx]\n",
    "actual = rnn_output[run_idx] \n",
    "\n",
    "print(obs.shape)\n",
    "print(actual.shape)\n"
   ]
  },
  {
   "cell_type": "code",
   "execution_count": null,
   "metadata": {},
   "outputs": [],
   "source": [
    "d = GAUSSIAN_MIXTURES * Z_DIM\n",
    "\n",
    "print(sum(np.abs(obs[idx,hot_zs])))\n",
    "\n",
    "plt.plot(actual[idx,hot_zs])\n",
    "\n",
    "\n",
    "y_pred = rnn.model.predict(np.array([[obs[idx,:]]]))\n",
    "\n",
    "# print(y_pred)\n",
    "\n",
    "z_pred = y_pred[:,:,:(3*d)]\n",
    "rew_pred = y_pred[:,:,-1]\n",
    "\n",
    "\n",
    "\n",
    "print(rew_pred)\n",
    "\n",
    "z_pred = np.reshape(z_pred, [-1, GAUSSIAN_MIXTURES * 3])\n",
    "\n",
    "log_pi, mu, log_sigma = np.split(z_pred, 3, 1)\n",
    "\n",
    "\n",
    "plt.plot(mu[hot_zs])\n",
    "\n",
    "log_pi = log_pi - np.log(np.sum(np.exp(log_pi), axis = 1, keepdims = True))\n",
    "\n",
    "print(sum(np.abs(mu)))\n"
   ]
  },
  {
   "cell_type": "code",
   "execution_count": null,
   "metadata": {},
   "outputs": [],
   "source": [
    "current_z = obs[idx]\n",
    "i = idx\n",
    "current_h = np.zeros(256)\n",
    "current_c = np.zeros(256)"
   ]
  },
  {
   "cell_type": "code",
   "execution_count": null,
   "metadata": {},
   "outputs": [],
   "source": [
    "next_z = obs[idx,:]\n",
    "next_h = np.zeros(256)\n",
    "next_c = np.zeros(256)\n",
    "# next_z_decoded = vae.decoder.predict(np.array([next_z]))[0]\n",
    "# plt.imshow( next_z_decoded)\n",
    "# plt.show()"
   ]
  },
  {
   "cell_type": "code",
   "execution_count": null,
   "metadata": {},
   "outputs": [],
   "source": [
    "for i in range(300):\n",
    "    next_z, chosen_mu, chosen_log_sigma, chosen_pi, rew_pred, next_reward, next_h, next_c \\\n",
    "    = sample_next_mdn_output(next_z, next_h, next_c)\n",
    "        \n",
    "    next_z_decoded = vae.decoder.predict(np.array([next_z]))[0]\n",
    "    next_z = np.concatenate([next_z, [-1,1,0], [next_reward]])\n",
    "    \n",
    "    plt.gca().cla() \n",
    "    plt.imshow(next_z_decoded)\n",
    "    display.clear_output(wait=True)\n",
    "    display.display(plt.gcf()) \n",
    "    \n",
    "    print(i)\n"
   ]
  },
  {
   "cell_type": "code",
   "execution_count": null,
   "metadata": {},
   "outputs": [],
   "source": [
    "b = np.swapaxes(actual,0,1)\n",
    "print(b.shape)\n",
    "actual_rew = b[-1,:]\n",
    "\n",
    "next_zs = np.zeros(shape = (32,299))\n",
    "next_mus = np.zeros(shape = (32,299))\n",
    "next_rews = np.zeros(shape = (1,299))\n",
    "# next_z = np.copy(obs)\n",
    "# print(next_z.shape)\n",
    "next_z = obs[idx,:]\n",
    "\n",
    "next_mus[:,0] = next_z[:32]\n",
    "next_zs[:,0] = next_z[:32]\n",
    "next_rews[:,0] = next_z[-1]\n",
    "\n",
    "for i in range(1,299):\n",
    "    next_z, chosen_mu, chosen_log_sigma, chosen_pi, rew_pred, next_reward, next_h, next_c = sample_next_mdn_output(next_z, next_h, next_c)\n",
    "    next_mus[:,i] = chosen_mu\n",
    "    next_zs[:,i] = next_z\n",
    "    next_rews[:,i] = rew_pred\n",
    "    \n",
    "    next_z_decoded = vae.decoder.predict(np.array([next_z]))[0]\n",
    "    \n",
    "#     plt.gca().cla() \n",
    "#     plt.imshow( next_z_decoded)\n",
    "# #     plt.show()\n",
    "#     display.clear_output(wait=True)\n",
    "#     display.display(plt.gcf()) \n",
    "    \n",
    "    next_z = np.concatenate([next_z, [-1,1,0], [next_reward]])\n",
    "\n",
    "plt.figure(figsize=(20,30))\n",
    "for i in hot_zs:\n",
    "    plt.subplot(511)\n",
    "    plt.plot( b[i,:])\n",
    "    plt.subplot(512)\n",
    "    plt.plot( next_zs[i,:])\n",
    "    plt.subplot(513)\n",
    "    plt.plot( next_mus[i,:])\n",
    "    \n",
    "plt.subplot(514)\n",
    "plt.plot(next_rews[0,:])\n",
    "\n",
    "plt.subplot(515)\n",
    "plt.plot(actual_rew[:])\n",
    "    \n",
    "# print(next_zs)\n",
    "    "
   ]
  }
 ],
 "metadata": {
  "kernelspec": {
   "display_name": "worldmodels",
   "language": "python",
   "name": "worldmodels"
  },
  "language_info": {
   "codemirror_mode": {
    "name": "ipython",
    "version": 3
   },
   "file_extension": ".py",
   "mimetype": "text/x-python",
   "name": "python",
   "nbconvert_exporter": "python",
   "pygments_lexer": "ipython3",
   "version": "3.7.5"
  }
 },
 "nbformat": 4,
 "nbformat_minor": 2
}
