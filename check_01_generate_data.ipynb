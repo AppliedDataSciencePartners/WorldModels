{
 "cells": [
  {
   "cell_type": "code",
   "execution_count": null,
   "metadata": {},
   "outputs": [],
   "source": [
    "import numpy as np\n",
    "import matplotlib.pyplot as plt\n",
    "import os\n",
    "from IPython import display"
   ]
  },
  {
   "cell_type": "code",
   "execution_count": null,
   "metadata": {},
   "outputs": [],
   "source": [
    "DIR_NAME = './data/rollout/'\n",
    "file = os.listdir(DIR_NAME)[60]\n",
    "print(file)\n",
    "rollout = np.load(DIR_NAME + file)\n",
    "obs_data = rollout['obs']\n",
    "action_data = rollout['action']\n",
    "reward_data = rollout['reward']\n",
    "\n",
    "print(obs_data.shape)"
   ]
  },
  {
   "cell_type": "code",
   "execution_count": null,
   "metadata": {},
   "outputs": [],
   "source": [
    "fig, axes = plt.subplots(nrows=5, ncols=4, figsize=(64,64), sharex=True, sharey=True)\n",
    "plt.subplots_adjust(hspace = 0.4)\n",
    "idx = 250\n",
    "for x in range(5):\n",
    "    for y in range(4):\n",
    "        \n",
    "        obs = obs_data[idx]\n",
    "        axes[x,y].imshow(obs)\n",
    "        \n",
    "        axes[x,y].text(0.5,-0.1, 'frame ' + str(idx), size=40, ha=\"center\", \n",
    "                       transform=axes[x,y].transAxes)\n",
    "        \n",
    "        axes[x,y].text(0.5,-0.2, 'a = ' + str(np.round(action_data[idx],2)), size=40, ha=\"center\", \n",
    "                       transform=axes[x,y].transAxes)\n",
    "        \n",
    "        axes[x,y].text(0.5,-0.3, 'r = ' + str(np.round(reward_data[idx],2)), size=40, ha=\"center\", \n",
    "                       transform=axes[x,y].transAxes)\n",
    "        \n",
    "        idx += 1\n",
    "\n",
    "plt.show()"
   ]
  },
  {
   "cell_type": "code",
   "execution_count": null,
   "metadata": {},
   "outputs": [],
   "source": []
  }
 ],
 "metadata": {
  "kernelspec": {
   "display_name": "worldmodels_3.8",
   "language": "python",
   "name": "worldmodels_3.8"
  },
  "language_info": {
   "codemirror_mode": {
    "name": "ipython",
    "version": 3
   },
   "file_extension": ".py",
   "mimetype": "text/x-python",
   "name": "python",
   "nbconvert_exporter": "python",
   "pygments_lexer": "ipython3",
   "version": "3.8.3"
  }
 },
 "nbformat": 4,
 "nbformat_minor": 2
}
